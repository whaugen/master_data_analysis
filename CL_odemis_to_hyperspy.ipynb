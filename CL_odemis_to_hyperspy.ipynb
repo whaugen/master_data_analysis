{
 "cells": [
  {
   "cell_type": "code",
   "execution_count": 1,
   "metadata": {},
   "outputs": [
    {
     "name": "stderr",
     "output_type": "stream",
     "text": [
      "WARNING:hyperspy_gui_traitsui:The module://ipykernel.pylab.backend_inline matplotlib backend is not compatible with the traitsui GUI elements. For more information, read http://hyperspy.readthedocs.io/en/stable/user_guide/getting_started.html#possible-warnings-when-importing-hyperspy.\n",
      "WARNING:hyperspy_gui_traitsui:The traitsui GUI elements are not available.\n"
     ]
    }
   ],
   "source": [
    "import h5py as h5\n",
    "import hyperspy.api as hs\n",
    "import numpy as np\n",
    "\n",
    "import matplotlib.pyplot as plt\n",
    "%matplotlib qt\n",
    "plt.rcParams['font.family'] = 'serif'\n",
    "\n",
    "import warnings\n",
    "warnings.filterwarnings('ignore')\n"
   ]
  },
  {
   "cell_type": "markdown",
   "metadata": {},
   "source": [
    "odemis_to_hyperspy() is a function which takes in a filename pointing to an Odemis CL .h5 file, and loads the signal into HyperSpy with the correct calibrations. The pxl_size refers to the pxl_size set when acquiring maps in Odemis, and needs to be set manually. It is therefore important to include this in the filename when storing the CL data."
   ]
  },
  {
   "cell_type": "code",
   "execution_count": 2,
   "metadata": {},
   "outputs": [],
   "source": [
    "def odemis_to_hyperspy(filename, pxl_size, save, specbin = 1):   \n",
    "\n",
    "    f = h5.File(filename,'r')\n",
    "\n",
    "    id_path = 'Acquisition2//ImageData/' # Path to the spectrum data in the h5 data tree\n",
    "    x = f[id_path + 'Image'] # Data\n",
    "    aq_title = f['Acquisition2/PhysicalData/ChannelDescription'].value[0].decode('utf-8') # Spectrum or Panchrom\n",
    "\n",
    "    # Find which type of CL-data we have, spectrum or intensity\n",
    "    if 'Spectrum' in aq_title:\n",
    "\n",
    "        cltype = 'spectrum'\n",
    "\n",
    "        # Strip unused dimensions and transpose/ reverse index order\n",
    "        xx = x[:,0,0,:,:].transpose((2,1,0))\n",
    "\n",
    "        # Interpolate data to linearize the wavelength scale\n",
    "        w  = f[id_path + 'DimensionScaleC'].value *1e9 # wavelengths in nanometer\n",
    "        wx = np.linspace(w.min(),w.max(),w.size) # create vector with evenly spaced wavelengths\n",
    "\n",
    "        # Iterate through data, replace with interpolated point at linearly spaced wavelengths\n",
    "        for i in np.arange(xx.shape[0]) :\n",
    "            for j in np.arange(xx.shape[1]) :\n",
    "                xx[i,j,:] = np.interp(wx, w, xx[i,j,:])\n",
    "\n",
    "        # Wavelength slope and offset used for calibration\n",
    "        wslope = wx[1] - wx[0]\n",
    "        woffset = wx.min()\n",
    "\n",
    "        # Create hyperspy Signal1D containing the data\n",
    "        s = hs.signals.Signal1D(xx)\n",
    "\n",
    "    elif 'CL intensity' in aq_title:\n",
    "\n",
    "        cltype = 'panchrom'\n",
    "\n",
    "        # strip unused dimensions and transpose/ reverse index order\n",
    "        xx = x[0,0,0,:,:].transpose((1,0))\n",
    "\n",
    "        s = hs.signals.Signal2D(xx)\n",
    "\n",
    "    else:\n",
    "        print('Unknown signal type')\n",
    "\n",
    "    # Spatial calibration of axes\n",
    "    s.metadata.General.title = aq_title\n",
    "    s.metadata.General.original_filename = filename\n",
    "    s.metadata.General.notes = cltype\n",
    "    s.axes_manager[0].name = 'Position x'\n",
    "    s.axes_manager[0].scale = pxl_size\n",
    "    s.axes_manager[0].offset = f[id_path + 'XOffset'].value * 1e6\n",
    "    s.axes_manager[0].units = 'nm'\n",
    "    s.axes_manager[1].name = 'Position y'\n",
    "    s.axes_manager[1].scale = pxl_size\n",
    "    s.axes_manager[1].offset = f[id_path + 'YOffset'].value * 1e6\n",
    "    s.axes_manager[1].units = 'nm'\n",
    "\n",
    "    # Spectral calibration of axes\n",
    "    if cltype == 'spectrum' :\n",
    "        s.axes_manager[2].name = 'Wavelength'\n",
    "        s.axes_manager[2].units = 'nm'\n",
    "        s.axes_manager[2].offset = woffset\n",
    "        s.axes_manager[2].scale = wslope\n",
    "        s.metadata.signal_type = 'CL'\n",
    "\n",
    "    f.close()\n",
    "\n",
    "    # Rotate data 3 times\n",
    "    for i in range(0,3):\n",
    "        s.data = (np.rot90(s.data))\n",
    "        temp2 = s.axes_manager[0].size\n",
    "        s.axes_manager[0].size = s.axes_manager[1].size\n",
    "        s.axes_manager[1].size = temp2\n",
    "\n",
    "    # Flip data\n",
    "    s.data = np.flip(s.data, axis = 1)\n",
    "\n",
    "    s.change_dtype('float64')\n",
    "\n",
    "    if (specbin > 1) and (cltype == 'spectrum'):\n",
    "        s.rebin(scale=[1,1,specbin])\n",
    "        \n",
    "    s.save(save, extension='hdf5', overwrite = True)\n",
    "    return s"
   ]
  },
  {
   "cell_type": "markdown",
   "metadata": {},
   "source": [
    "Use the odemis_to_hyperspy( ) to convert and save the signal as a hdf5 file"
   ]
  },
  {
   "cell_type": "code",
   "execution_count": 3,
   "metadata": {},
   "outputs": [
    {
     "name": "stdout",
     "output_type": "stream",
     "text": [
      "Converted:  <Signal1D, title: Spectrum, dimensions: (29, 27|1024)>\n"
     ]
    }
   ],
   "source": [
    "filename = '20-02-17 CN1018 S249.07 Grid/CN1018 S249.07 grid NW1 150_800_40kX _5kV_30SI_ExTime100ms_Binn2_Gain1_Pxl30nm_Slit107um_.h5'\n",
    "\n",
    "# Extract pixel size from filename (substring between '_Pxl' and 'nm_')\n",
    "pxl_size = float(filename.split('_Pxl',1)[1].split('nm_', 1)[0])\n",
    "\n",
    "# Convert to hyperspy signal with correct calibrations, and save \n",
    "s = odemis_to_hyperspy(filename = filename, pxl_size = pxl_size, save = 'hdf5/NW1')\n",
    "\n",
    "print('Converted: ', s)"
   ]
  },
  {
   "cell_type": "markdown",
   "metadata": {},
   "source": [
    "The hdf5 file can then be loaded and used for further processing"
   ]
  },
  {
   "cell_type": "code",
   "execution_count": 12,
   "metadata": {},
   "outputs": [
    {
     "data": {
      "text/html": [
       "<style>\n",
       "table, th, td {\n",
       "\tborder: 1px solid black;\n",
       "\tborder-collapse: collapse;\n",
       "}\n",
       "th, td {\n",
       "\tpadding: 5px;\n",
       "}\n",
       "</style>\n",
       "<p><b>< Axes manager, axes: (29, 27|1024) ></b></p>\n",
       "<table style='width:100%'>\n",
       "\n",
       "<tr> \n",
       "<th>Navigation axis name</th> \n",
       "<th>size</th> \n",
       "<th>index</th> \n",
       "<th>offset</th> \n",
       "<th>scale</th> \n",
       "<th>units</th> </tr>\n",
       "<tr> \n",
       "<td>Position x</td> \n",
       "<td>29</td> \n",
       "<td>0</td> \n",
       "<td>0.06678527147824388</td> \n",
       "<td>30.0</td> \n",
       "<td>nm</td> </tr>\n",
       "<tr> \n",
       "<td>Position y</td> \n",
       "<td>27</td> \n",
       "<td>0</td> \n",
       "<td>0.06999169134928786</td> \n",
       "<td>30.0</td> \n",
       "<td>nm</td> </tr></table>\n",
       "<table style='width:100%'>\n",
       "\n",
       "<tr> \n",
       "<th>Signal axis name</th> \n",
       "<th>size</th> \n",
       "<th>offset</th> \n",
       "<th>scale</th> \n",
       "<th>units</th> </tr>\n",
       "<tr> \n",
       "<td>Wavelength</td> \n",
       "<td>1024</td> \n",
       "<td>225.2500457763672</td> \n",
       "<td>0.4369392432308814</td> \n",
       "<td>nm</td> </tr></table>\n"
      ],
      "text/plain": [
       "<Axes manager, axes: (29, 27|1024)>\n",
       "            Name |   size |  index |  offset |   scale |  units \n",
       "================ | ====== | ====== | ======= | ======= | ====== \n",
       "      Position x |     29 |      0 |   0.067 |      30 |     nm \n",
       "      Position y |     27 |      0 |    0.07 |      30 |     nm \n",
       "---------------- | ------ | ------ | ------- | ------- | ------ \n",
       "      Wavelength |   1024 |        | 2.3e+02 |    0.44 |     nm "
      ]
     },
     "execution_count": 12,
     "metadata": {},
     "output_type": "execute_result"
    }
   ],
   "source": [
    "%matplotlib qt\n",
    "\n",
    "# Load the hdf5 file, plot the data in the interactive window, and verify the calibration of the axes\n",
    "s = hs.load('hdf5/NW1.hdf5')\n",
    "s.plot()\n",
    "s.axes_manager"
   ]
  },
  {
   "cell_type": "code",
   "execution_count": 23,
   "metadata": {},
   "outputs": [],
   "source": [
    "# Plot map of UV peak intensity\n",
    "s.isig[340.:380.].sum(axis=2).plot()\n",
    "\n",
    "# Plot vertical line\n",
    "s.inav[15,:].plot()\n"
   ]
  }
 ],
 "metadata": {
  "kernelspec": {
   "display_name": "Python 3",
   "language": "python",
   "name": "python3"
  },
  "language_info": {
   "codemirror_mode": {
    "name": "ipython",
    "version": 3
   },
   "file_extension": ".py",
   "mimetype": "text/x-python",
   "name": "python",
   "nbconvert_exporter": "python",
   "pygments_lexer": "ipython3",
   "version": "3.7.4"
  }
 },
 "nbformat": 4,
 "nbformat_minor": 2
}
