{
 "cells": [
  {
   "cell_type": "markdown",
   "metadata": {},
   "source": [
    "## CL data analysis"
   ]
  },
  {
   "cell_type": "markdown",
   "metadata": {},
   "source": [
    "Notebook for examining data from CL acquisition, including plotting, PCA denoising, NMF decomposition, max intensity wavelength mapping, and intensity distributions for different spectral ranges. Functions used here are from *utilities_CL_master.py*. "
   ]
  },
  {
   "cell_type": "code",
   "execution_count": 2,
   "metadata": {},
   "outputs": [],
   "source": [
    "%matplotlib qt\n",
    "\n",
    "from utilities_CL_master import *\n",
    "import hyperspy.api as hs\n",
    "plt.rcParams['image.cmap'] = 'viridis'\n",
    "plt.rcParams['font.size'] = 16\n",
    "plt.rcParams['font.family'] = 'serif'\n",
    "import autoreload\n",
    "%load_ext autoreload\n"
   ]
  },
  {
   "cell_type": "markdown",
   "metadata": {},
   "source": [
    "### Loading and plotting signal"
   ]
  },
  {
   "cell_type": "markdown",
   "metadata": {},
   "source": [
    "Load *.hdf5*-files for the CL signal and the preview SEM image. These are converted from the *.h5* Odemis file using the *Odemis_to_hyperspy.ipynb*-Notebook."
   ]
  },
  {
   "cell_type": "code",
   "execution_count": 3,
   "metadata": {},
   "outputs": [],
   "source": [
    "# Path to signal file\n",
    "path = '20-04-28 FIB/'\n",
    "title =  'r1'\n",
    "\n",
    "# Load hdf5-file, plot the interactive signal, and the total sum spectrum\n",
    "s = hs.load(path + 'hdf5/' + title + '.hdf5') \n",
    "s.plot()\n",
    "s.sum(axis=(0,1)).plot()"
   ]
  },
  {
   "cell_type": "markdown",
   "metadata": {},
   "source": [
    "### Crop, decompose, and get the denoised data"
   ]
  },
  {
   "cell_type": "code",
   "execution_count": 4,
   "metadata": {},
   "outputs": [
    {
     "name": "stderr",
     "output_type": "stream",
     "text": [
      "WARNING:hyperspy.learn.rpca:Threshold 'lambda1' is set to default: 1 / sqrt(nsamples)\n",
      "WARNING:hyperspy.learn.rpca:Number of power iterations not specified. Defaulting to 0\n",
      "WARNING:hyperspy.learn.rpca:Convergence tolerance not specifed. Defaulting to 1e-3\n",
      "WARNING:hyperspy.learn.rpca:Maximum iterations not specified. Defaulting to 1e3\n",
      "WARNING:hyperspy.learn.rpca:Maximum iterations reached\n"
     ]
    },
    {
     "data": {
      "application/vnd.jupyter.widget-view+json": {
       "model_id": "f3842bd5fae84622a4348602ccb5f438",
       "version_major": 2,
       "version_minor": 0
      },
      "text/plain": [
       "VBox(children=(HBox(children=(Label(value='Decomposition component index', layout=Layout(width='15%')), IntSli…"
      ]
     },
     "metadata": {},
     "output_type": "display_data"
    }
   ],
   "source": [
    "s_crop = s.isig[240.:380.].deepcopy()\n",
    "\n",
    "s_crop.decomposition(normalize_poissonian_noise = True, algorithm='RPCA_GoDec', output_dimension = 25) \n",
    "s_crop.plot_explained_variance_ratio()  # Plot scree plot\n",
    "s_crop.plot_decomposition_results() # Plot eigenvalues and eigenvectors"
   ]
  },
  {
   "cell_type": "code",
   "execution_count": 5,
   "metadata": {},
   "outputs": [],
   "source": [
    "s_pca = s_crop.get_decomposition_model(components = 5).deepcopy()"
   ]
  },
  {
   "cell_type": "markdown",
   "metadata": {},
   "source": [
    "### NMF decomposition and plotting"
   ]
  },
  {
   "cell_type": "code",
   "execution_count": 6,
   "metadata": {},
   "outputs": [
    {
     "data": {
      "application/vnd.jupyter.widget-view+json": {
       "model_id": "b484556d074b409a832978b7e0f0fdf7",
       "version_major": 2,
       "version_minor": 0
      },
      "text/plain": [
       "VBox(children=(HBox(children=(Label(value='Decomposition component index', layout=Layout(width='15%')), IntSli…"
      ]
     },
     "metadata": {},
     "output_type": "display_data"
    }
   ],
   "source": [
    "s_nmf = s_pca.deepcopy()\n",
    "s_nmf.decomposition(algorithm='nmf', output_dimension = 6)\n",
    "s_nmf.plot_decomposition_results()"
   ]
  },
  {
   "cell_type": "code",
   "execution_count": 7,
   "metadata": {},
   "outputs": [],
   "source": [
    "%autoreload\n",
    "\n",
    "# Select which factors to plot (default = first three)\n",
    "c = [1,3,4]\n",
    "\n",
    "plot_nmf_loadings(signal = s_nmf, selected = c, save = path + 'nmf/' + title)\n",
    "plot_nmf_factors(signal = s_nmf, selected = c, offset = 20, save = path + 'nmf/' + title)"
   ]
  },
  {
   "cell_type": "markdown",
   "metadata": {},
   "source": [
    "### Plot max wavelength distribution and intensity distribution of different spectral ranges"
   ]
  },
  {
   "cell_type": "code",
   "execution_count": 14,
   "metadata": {},
   "outputs": [],
   "source": [
    "%autoreload\n",
    "\n",
    "# Plot the maps of the max intensity wavelength for each pixel\n",
    "wavelength_distribution(s_pca.isig[357.:364.], cutoff = 340, save = path + 'maps/' + title + '_357-364')\n",
    "wavelength_distribution(s_pca.isig[275.:290.], cutoff = 350, save = path + 'maps/' + title + '_275-290')\n",
    "wavelength_distribution(s_pca.isig[325.:330.], cutoff = 350, save = path + 'maps/' + title + '_325-330')\n"
   ]
  },
  {
   "cell_type": "code",
   "execution_count": 58,
   "metadata": {},
   "outputs": [],
   "source": [
    "%autoreload\n",
    "\n",
    "# Plot the intensity of emission for different spectral ranges\n",
    "limits = [200., 250., 300., 380., 650.]\n",
    "\n",
    "for i in range(len(limits)-1):\n",
    "    cropped = s.isig[limits[i]:limits[i+1]]\n",
    "        \n",
    "    intensity_map(cropped, save = path + 'intensities/' + title + '_' + str(limits[i]) + '-' + str(limits[i+1]))"
   ]
  },
  {
   "cell_type": "markdown",
   "metadata": {},
   "source": [
    "### Gaussian fitting "
   ]
  },
  {
   "cell_type": "markdown",
   "metadata": {},
   "source": [
    "Function which fits *n* (max 5) Gaussians to the sum spectrum, and plots the result. "
   ]
  },
  {
   "cell_type": "code",
   "execution_count": 51,
   "metadata": {},
   "outputs": [
    {
     "name": "stdout",
     "output_type": "stream",
     "text": [
      "Gaussian 1: mean = 282.58, STD = 10.35\n",
      "Gaussian 2: mean = 328.34, STD = 15.14\n",
      "Gaussian 3: mean = 500.93, STD = 82.39\n"
     ]
    }
   ],
   "source": [
    "%autoreload\n",
    "\n",
    "# Crop signal to the desired range\n",
    "sig = s.isig[200.:620.]\n",
    "\n",
    "# The bounds for each paramter can either be entered manually, or the automatic ones can be used\n",
    "bounds = ([0., 200., 0., 0., 200., 0., 0., 380., 0.],#, 0., 380., 0.], \n",
    "         [1., 380., 100., 1., 380., 100., 1., 650., 100.])#, 1., 650., 100.])\n",
    "\n",
    "gaussian_fit(sig, n = 3, save = path + 'gaussian/' + title + '_full', bounds = bounds)"
   ]
  },
  {
   "cell_type": "code",
   "execution_count": null,
   "metadata": {},
   "outputs": [],
   "source": []
  }
 ],
 "metadata": {
  "kernelspec": {
   "display_name": "Python 3",
   "language": "python",
   "name": "python3"
  },
  "language_info": {
   "codemirror_mode": {
    "name": "ipython",
    "version": 3
   },
   "file_extension": ".py",
   "mimetype": "text/x-python",
   "name": "python",
   "nbconvert_exporter": "python",
   "pygments_lexer": "ipython3",
   "version": "3.7.4"
  }
 },
 "nbformat": 4,
 "nbformat_minor": 2
}
